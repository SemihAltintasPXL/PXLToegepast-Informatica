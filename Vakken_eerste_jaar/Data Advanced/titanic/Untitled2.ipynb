{
 "cells": [
  {
   "cell_type": "code",
   "execution_count": 7,
   "metadata": {},
   "outputs": [],
   "source": [
    "import scipy.stats as stats\n",
    "import math"
   ]
  },
  {
   "cell_type": "code",
   "execution_count": 8,
   "metadata": {},
   "outputs": [
    {
     "name": "stdout",
     "output_type": "stream",
     "text": [
      "0.10934855242569191\n",
      "0.018308899851658955\n",
      "0.11095348498906421\n"
     ]
    }
   ],
   "source": [
    "print(stats.norm.cdf(-1.23, 0, math.sqrt(1)))\n",
    "print(1 - stats.norm.cdf(2.09, 0, 1))\n",
    "print(stats.norm.cdf(2.85, 0, 1) - stats.norm.cdf(1.21, 0, 1))"
   ]
  },
  {
   "cell_type": "code",
   "execution_count": 9,
   "metadata": {},
   "outputs": [
    {
     "name": "stdout",
     "output_type": "stream",
     "text": [
      "2.4892858647872407\n",
      "-1.9094815467290918\n",
      "-2.280129653030281\n"
     ]
    }
   ],
   "source": [
    "print(stats.norm.ppf(0.9936, 0, 1))\n",
    "print(stats.norm.ppf(0.0281, 0, 1))\n",
    "print(stats.norm.ppf((1 - 0.9887), 0, 1))"
   ]
  },
  {
   "cell_type": "code",
   "execution_count": 14,
   "metadata": {},
   "outputs": [
    {
     "name": "stdout",
     "output_type": "stream",
     "text": [
      "a.  0.9181284878696232\n",
      "b.  0.684587140248381\n",
      "c.  0.004482646557087855\n",
      "d.  172.31009294616663\n"
     ]
    }
   ],
   "source": [
    "print('a. ', stats.norm.cdf(180, 170.6, 6.75))\n",
    "print('b. ', stats.norm.cdf(175, 170.6, 6.75) - stats.norm.cdf(160, 170.6, 6.75))\n",
    "print('c. ', stats.norm.cdf(180.1, 170.6, 6.75) - stats.norm.cdf(179.9, 170.6, 6.75))\n",
    "print('d. ', stats.norm.ppf(0.6, 170.6, 6.75))"
   ]
  },
  {
   "cell_type": "code",
   "execution_count": 15,
   "metadata": {},
   "outputs": [
    {
     "data": {
      "text/plain": [
       "442.815515655446"
      ]
     },
     "execution_count": 15,
     "metadata": {},
     "output_type": "execute_result"
    }
   ],
   "source": [
    "stats.norm.ppf(0.9, 430, math.sqrt(100))"
   ]
  },
  {
   "cell_type": "code",
   "execution_count": 16,
   "metadata": {},
   "outputs": [
    {
     "data": {
      "text/plain": [
       "0.4120704478709426"
      ]
     },
     "execution_count": 16,
     "metadata": {},
     "output_type": "execute_result"
    }
   ],
   "source": [
    "stats.norm.cdf(50, 52, 9)"
   ]
  },
  {
   "cell_type": "code",
   "execution_count": 25,
   "metadata": {},
   "outputs": [
    {
     "data": {
      "text/plain": [
       "23.013934044341646"
      ]
     },
     "execution_count": 25,
     "metadata": {},
     "output_type": "execute_result"
    }
   ],
   "source": [
    "#oefening1\n",
    "kans = 1 - stats.norm.cdf(140, 110, 25)\n",
    "kans*200"
   ]
  },
  {
   "cell_type": "code",
   "execution_count": 36,
   "metadata": {},
   "outputs": [
    {
     "data": {
      "text/plain": [
       "0.2857874067778077"
      ]
     },
     "execution_count": 36,
     "metadata": {},
     "output_type": "execute_result"
    }
   ],
   "source": [
    "#oefening2\n",
    "stats.norm.cdf(75, 80, math.sqrt(100)) - stats.norm.cdf(60, 80, math.sqrt(100))\n"
   ]
  },
  {
   "cell_type": "code",
   "execution_count": 24,
   "metadata": {},
   "outputs": [
    {
     "data": {
      "text/plain": [
       "0.4120704478709426"
      ]
     },
     "execution_count": 24,
     "metadata": {},
     "output_type": "execute_result"
    }
   ],
   "source": [
    "#voorbeeld 5\n",
    "stats.norm.cdf(50, 52, 9)"
   ]
  },
  {
   "cell_type": "code",
   "execution_count": 37,
   "metadata": {},
   "outputs": [
    {
     "name": "stdout",
     "output_type": "stream",
     "text": [
      "0.11787424632190002\n"
     ]
    }
   ],
   "source": [
    "#oefening 5\n",
    "print(stats.norm.cdf(53, 58, 4) + (1 - stats.norm.cdf(67, 58, 4)))"
   ]
  },
  {
   "cell_type": "code",
   "execution_count": 38,
   "metadata": {},
   "outputs": [
    {
     "name": "stdout",
     "output_type": "stream",
     "text": [
      "a.  0.24196365222307303\n",
      "b.  30092.242172276998\n"
     ]
    }
   ],
   "source": [
    "print(\"a. \", 1 - stats.norm.cdf(40000, 36500, 5000))\n",
    "print(\"b. \", stats.norm.ppf(0.1, 36500, 5000))"
   ]
  },
  {
   "cell_type": "code",
   "execution_count": null,
   "metadata": {},
   "outputs": [],
   "source": []
  }
 ],
 "metadata": {
  "kernelspec": {
   "display_name": "Python 3",
   "language": "python",
   "name": "python3"
  },
  "language_info": {
   "codemirror_mode": {
    "name": "ipython",
    "version": 3
   },
   "file_extension": ".py",
   "mimetype": "text/x-python",
   "name": "python",
   "nbconvert_exporter": "python",
   "pygments_lexer": "ipython3",
   "version": "3.8.3"
  }
 },
 "nbformat": 4,
 "nbformat_minor": 4
}
